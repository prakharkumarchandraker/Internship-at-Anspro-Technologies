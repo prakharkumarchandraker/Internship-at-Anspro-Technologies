{
 "cells": [
  {
   "cell_type": "code",
   "execution_count": 1,
   "id": "eb3d1e44",
   "metadata": {},
   "outputs": [
    {
     "data": {
      "text/plain": [
       "1954921278032"
      ]
     },
     "execution_count": 1,
     "metadata": {},
     "output_type": "execute_result"
    }
   ],
   "source": [
    "a=10\n",
    "id(a)\n",
    "#The id() function returns a unique id for the specified object."
   ]
  },
  {
   "cell_type": "code",
   "execution_count": 2,
   "id": "b4b0b1ef",
   "metadata": {},
   "outputs": [
    {
     "data": {
      "text/plain": [
       "1954921278096"
      ]
     },
     "execution_count": 2,
     "metadata": {},
     "output_type": "execute_result"
    }
   ],
   "source": [
    "b=12\n",
    "id(b)"
   ]
  },
  {
   "cell_type": "code",
   "execution_count": 3,
   "id": "1f3e71ef",
   "metadata": {},
   "outputs": [
    {
     "data": {
      "text/plain": [
       "1954921278032"
      ]
     },
     "execution_count": 3,
     "metadata": {},
     "output_type": "execute_result"
    }
   ],
   "source": [
    "c=10\n",
    "id(c)\n",
    "#which is same as id of a, \n",
    "#Now you can see that a new Python object has not been created, just a new name that points to the same object."
   ]
  },
  {
   "cell_type": "code",
   "execution_count": 5,
   "id": "a17d94d2",
   "metadata": {},
   "outputs": [
    {
     "data": {
      "text/plain": [
       "1954921278128"
      ]
     },
     "execution_count": 5,
     "metadata": {},
     "output_type": "execute_result"
    }
   ],
   "source": [
    "c=13\n",
    "id(c)"
   ]
  },
  {
   "cell_type": "code",
   "execution_count": 6,
   "id": "31918d86",
   "metadata": {},
   "outputs": [
    {
     "name": "stdout",
     "output_type": "stream",
     "text": [
      "13\n"
     ]
    }
   ],
   "source": [
    "print(c)"
   ]
  },
  {
   "cell_type": "code",
   "execution_count": 8,
   "id": "e9044506",
   "metadata": {},
   "outputs": [
    {
     "data": {
      "text/plain": [
       "float"
      ]
     },
     "execution_count": 8,
     "metadata": {},
     "output_type": "execute_result"
    }
   ],
   "source": [
    "d=10.5\n",
    "type(d)\n",
    "#he type() function is used to get the type of an object."
   ]
  },
  {
   "cell_type": "code",
   "execution_count": 9,
   "id": "db4d2391",
   "metadata": {},
   "outputs": [
    {
     "data": {
      "text/plain": [
       "int"
      ]
     },
     "execution_count": 9,
     "metadata": {},
     "output_type": "execute_result"
    }
   ],
   "source": [
    "e=10\n",
    "type(e)"
   ]
  },
  {
   "cell_type": "code",
   "execution_count": 10,
   "id": "d66866a6",
   "metadata": {},
   "outputs": [
    {
     "data": {
      "text/plain": [
       "str"
      ]
     },
     "execution_count": 10,
     "metadata": {},
     "output_type": "execute_result"
    }
   ],
   "source": [
    "f=\"String\"\n",
    "type(f)"
   ]
  },
  {
   "cell_type": "code",
   "execution_count": 18,
   "id": "061d8344",
   "metadata": {},
   "outputs": [
    {
     "data": {
      "text/plain": [
       "float"
      ]
     },
     "execution_count": 18,
     "metadata": {},
     "output_type": "execute_result"
    }
   ],
   "source": [
    "g=10.577\n",
    "type(g)"
   ]
  },
  {
   "cell_type": "code",
   "execution_count": null,
   "id": "eda5578e",
   "metadata": {},
   "outputs": [],
   "source": []
  }
 ],
 "metadata": {
  "kernelspec": {
   "display_name": "Python 3 (ipykernel)",
   "language": "python",
   "name": "python3"
  },
  "language_info": {
   "codemirror_mode": {
    "name": "ipython",
    "version": 3
   },
   "file_extension": ".py",
   "mimetype": "text/x-python",
   "name": "python",
   "nbconvert_exporter": "python",
   "pygments_lexer": "ipython3",
   "version": "3.9.13"
  }
 },
 "nbformat": 4,
 "nbformat_minor": 5
}
